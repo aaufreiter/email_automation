{
 "cells": [
  {
   "cell_type": "code",
   "execution_count": 2,
   "metadata": {},
   "outputs": [],
   "source": [
    "# Imports\n",
    "import openpyxl\n",
    "import os\n",
    "import subprocess\n"
   ]
  },
  {
   "cell_type": "code",
   "execution_count": null,
   "metadata": {},
   "outputs": [],
   "source": [
    "# Load the Excel workbook\n",
    "workbook = openpyxl.load_workbook('example.xlsx')\n",
    "worksheet = workbook.active\n",
    "\n",
    "# Iterate over rows 4 to 26\n",
    "for row in range(4, 27):\n",
    "    # Check if the value in column F is \"offen\"\n",
    "    if worksheet.cell(row=row, column=6).value == \"offen\":\n",
    "        # Get the name, gender, and email from columns J, K, and L\n",
    "        name = worksheet.cell(row=row, column=10).value\n",
    "        gender = worksheet.cell(row=row, column=11).value\n",
    "        email = worksheet.cell(row=row, column=12).value\n",
    "        \n",
    "        # Get the tax year from cell B2\n",
    "        tax_year = worksheet.cell(row=2, column=2).value\n",
    "        \n",
    "        # Create the email subject\n",
    "        subject = f\"Tax Year {tax_year} Information\"\n",
    "        \n",
    "        # Create the email body with the appropriate salutation based on gender\n",
    "        if gender == \"male\":\n",
    "            salutation = f\"Dear Mr. {name},\"\n",
    "        elif gender == \"female\":\n",
    "            salutation = f\"Dear Ms. {name},\"\n",
    "        else:\n",
    "            salutation = f\"Dear {name},\"\n",
    "        body = f\"{salutation}\\n\\nWe are writing to inform you about your tax information for the year {tax_year}.\\n\\nSincerely,\\nYour Tax Team\\n\\n{os.linesep}--{os.linesep}\"\n",
    "        \n",
    "        # Create the email using Outlook\n",
    "        outlook_path = r\"C:\\Program Files\\Microsoft Office\\root\\Office16\\OUTLOOK.EXE\"\n",
    "        command = f'\"{outlook_path}\" /c ipm.note /m \"{email}\" /a \"{os.getcwd()}/example.xlsx\" /sig \"Standard\" /html \"{os.getcwd()}/email_template.html\" /subject \"{subject}\" /body \"{body}\"'\n",
    "        subprocess.run(command, shell=True)\n",
    "\n",
    "# Close the workbook\n",
    "workbook.close()"
   ]
  }
 ],
 "metadata": {
  "kernelspec": {
   "display_name": "Python 3",
   "language": "python",
   "name": "python3"
  },
  "language_info": {
   "codemirror_mode": {
    "name": "ipython",
    "version": 3
   },
   "file_extension": ".py",
   "mimetype": "text/x-python",
   "name": "python",
   "nbconvert_exporter": "python",
   "pygments_lexer": "ipython3",
   "version": "3.11.4"
  },
  "orig_nbformat": 4
 },
 "nbformat": 4,
 "nbformat_minor": 2
}
