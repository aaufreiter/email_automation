{
 "cells": [
  {
   "cell_type": "code",
   "execution_count": null,
   "metadata": {},
   "outputs": [],
   "source": [
    "# Imports\n",
    "import openpyxl\n",
    "import os\n",
    "import win32com.client as win32"
   ]
  },
  {
   "cell_type": "code",
   "execution_count": null,
   "metadata": {},
   "outputs": [],
   "source": [
    "# Define filepaths (duration - 1 min)\n",
    "\n",
    "excel_name = \"Übersicht EStKöSt-Erklärungen und LV.xlsx\" # ACHTUNG Excel ohne Makros verwenden! \n",
    "excel_path = os.path.join(os.getcwd(), excel_name)\n",
    "\n",
    "workbook = openpyxl.load_workbook(excel_path)\n",
    "\n",
    "# Select the source sheet and the results sheet\n",
    "source_sheet = workbook[\"KöSt-Erklärungen 2022\"]         # Excel sheet aus dem die Daten genommen werden\n",
    "\n",
    "# Iterate over rows 4 to 26\n",
    "for row in range(4, 27):  # 4, 27\n",
    "    # Check if the value in column F is \"offen\"\n",
    "    if source_sheet.cell(row=row, column=6).value == \"offen\":\n",
    "        # Get the name, gender, and email from columns J, K, and L\n",
    "        client = source_sheet.cell(row=row, column=2).value\n",
    "        gender = source_sheet.cell(row=row, column=11).value\n",
    "        name = source_sheet.cell(row=row, column=10).value\n",
    "        email = source_sheet.cell(row=row, column=12).value\n",
    "        \n",
    "        # Get the tax year from cell B2\n",
    "        tax_year = source_sheet.cell(row=2, column=2).value\n",
    "        \n",
    "        # Create the email subject\n",
    "        email_subject = f\"KSt {tax_year} DE - {client} - Anfrage Daten\"\n",
    "        \n",
    "        # Create the email body with the appropriate salutation based on gender\n",
    "        if gender == \"m\":\n",
    "            salutation = f\"Sehr geehrter {name},\"\n",
    "        else:\n",
    "            salutation = f\"Sehr geehrte {name},\"\n",
    "\n",
    "        body = f\"\"\"<p class=MsoNormal><span lang=EN-US style='font-size:10.0pt;font-family:\"Verdana\",sans-serif'>{salutation}<o:p></o:p></span></p>\n",
    "        <p class=MsoNormal><span lang=EN-US style='font-size:10.0pt;font-family:\"Verdana\",sans-serif'><o:p></o:p></span></p>\n",
    "        <p class=MsoNormal><span lang=EN-US style='font-size:10.0pt;font-family:\"Verdana\",sans-serif'>Wir möchten uns gerne in Bezug auf die deutsche Körperschaftsteuererklärung {tax_year} der {client} mit Ihnen abstimmen.<o:p></o:p></span></p>\n",
    "        <p class=MsoNormal><span lang=EN-US style='font-size:10.0pt;font-family:\"Verdana\",sans-serif'><o:p></o:p></span></p>\n",
    "        <p class=MsoNormal><span lang=EN-US style='font-size:10.0pt;font-family:\"Verdana\",sans-serif'>Um einen möglichst reibungsfreien Ablauf zu gewährleisten, möchten wir Sie bitten uns die Unterlagen für die laufenden bzw. die heuer begonnenen Betriebsstätten in Deutschland zukommen zu lassen.<o:p></o:p></span></p> \n",
    "        <p class=MsoNormal><span lang=EN-US style='font-size:10.0pt;font-family:\"Verdana\",sans-serif'><o:p></o:p></span></p>\n",
    "        <p class=MsoNormal><span lang=EN-US style='font-size:10.0pt;font-family:\"Verdana\",sans-serif'>Gerne stehen wir vorab für Rückfragen zur Verfügung.<o:p></o:p></span></p>\n",
    "        <p class=MsoNormal><span lang=EN-US style='font-size:10.0pt;font-family:\"Verdana\",sans-serif'><o:p></o:p></span></p>\n",
    "        <p class=MsoNormal><span lang=EN-US style='font-size:10.0pt;font-family:\"Verdana\",sans-serif'>Vielen Dank und beste Grüße!<o:p></o:p></span></p>\n",
    "\n",
    "        \"\"\"\n",
    "        \n",
    "        # Create the email in Outlook using win32\n",
    "\n",
    "        outlook = win32.Dispatch(\"outlook.Application\")\n",
    "        mail = outlook.CreateItem(0) \n",
    "        mail.Subject = email_subject\n",
    "        mail.HTMLBody = body\n",
    "        mail.Sender = \"alexander.aufreiter@icon.at\"\n",
    "        mail.To = \"alexander.aufreiter@icon.at\"\n",
    "        mail.GetInspector\n",
    "\n",
    "        #mail.Display()     # opens a separate window for each email\n",
    "        mail.Save()         # saves the email as draft\n",
    "        #mail.Send()        # sends the email immediately\n",
    "        print(f\"one mail for {name}\")\n",
    "    else: \n",
    "        print(f\"no email for you, {name}\")\n",
    "\n",
    "# Close the workbook\n",
    "workbook.close()\n"
   ]
  },
  {
   "cell_type": "code",
   "execution_count": null,
   "metadata": {},
   "outputs": [],
   "source": []
  }
 ],
 "metadata": {
  "kernelspec": {
   "display_name": "Python 3",
   "language": "python",
   "name": "python3"
  },
  "language_info": {
   "codemirror_mode": {
    "name": "ipython",
    "version": 3
   },
   "file_extension": ".py",
   "mimetype": "text/x-python",
   "name": "python",
   "nbconvert_exporter": "python",
   "pygments_lexer": "ipython3",
   "version": "3.11.3"
  },
  "orig_nbformat": 4
 },
 "nbformat": 4,
 "nbformat_minor": 2
}
